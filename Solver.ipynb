{
 "cells": [
  {
   "cell_type": "code",
   "execution_count": 4,
   "id": "d7d06a34-4d9d-40c7-9a68-9134031f54ee",
   "metadata": {},
   "outputs": [],
   "source": [
    "import pandas as pd\n",
    "import numpy as np\n",
    "import sympy as sp"
   ]
  },
  {
   "cell_type": "code",
   "execution_count": 5,
   "id": "b9e5b045-5e08-4a78-85d9-cc86003923c4",
   "metadata": {},
   "outputs": [],
   "source": [
    "from sympy.abc import *"
   ]
  },
  {
   "cell_type": "code",
   "execution_count": 6,
   "id": "046dc13b-69e6-4243-b949-bcef65040e19",
   "metadata": {},
   "outputs": [],
   "source": [
    "g11, g12, g22, f11, f12, f22, h11, h12, h22 = sp.symbols(\"g11, g12, g22, f11, f12, f22, h11, h12, h22\")"
   ]
  },
  {
   "cell_type": "code",
   "execution_count": 7,
   "id": "3a9d954b-9464-46f7-8463-d6f917b86309",
   "metadata": {},
   "outputs": [],
   "source": [
    "a, a_ , a__, b, b_, b__, c, c_, c__, d, d_, d__, e, e_, e__, f, f_, f__, g, g_, g__ = sp.symbols(\"a, a' , a'', b, b', b'', c, c', c'', d, d', d'', e, e', e'', f, f', f'', g, g', g'' \")"
   ]
  },
  {
   "cell_type": "code",
   "execution_count": 8,
   "id": "66da7c6b-d2bf-402b-9beb-7ac08b990ba0",
   "metadata": {},
   "outputs": [],
   "source": [
    "x_2, x_3, x_4, x_5, t, alpha, beta = sp.symbols(\"x_2, x_3, x_4, x_5, t, alpha, beta\")"
   ]
  },
  {
   "cell_type": "code",
   "execution_count": 9,
   "id": "b7227f16-559e-4b9f-8e24-fd4cdad1028c",
   "metadata": {},
   "outputs": [],
   "source": [
    "G_11 = (b_*a - b*a_)*x_5**3 + (a*d_ - a_*d)*x_2*x_5**2 + (a*g_ - a_*g + c*b_ - c_*b) * x_5**2 * x_4 + (b * d_ - b_ * d) * x_2**2 * x_5 + (b * g_ - g * b_ + c * d_ - c_ * d + f * b_ - f_ * b) * x_2 * x_4 * x_5 + (c*g_ - c_* g) * x_4**2 * x_5 + (f * d_ - f_ * d) * x_2**2 * x_4 + (f * g_ - g * f_) * x_2 * x_4**2"
   ]
  },
  {
   "cell_type": "code",
   "execution_count": 10,
   "id": "9babd662-d89e-4758-b44d-8233c7b7d4c3",
   "metadata": {},
   "outputs": [
    {
     "data": {
      "text/latex": [
       "$\\displaystyle x_{2}^{2} x_{4} \\left(- d f' + d' f\\right) + x_{2}^{2} x_{5} \\left(b d' - b' d\\right) + x_{2} x_{4}^{2} \\left(f g' - f' g\\right) + x_{2} x_{4} x_{5} \\left(- b f' + b g' + b' f - b' g + c d' - c' d\\right) + x_{2} x_{5}^{2} \\left(a d' - a' d\\right) + x_{4}^{2} x_{5} \\left(c g' - c' g\\right) + x_{4} x_{5}^{2} \\left(a g' - a' g - b c' + b' c\\right) + x_{5}^{3} \\left(a b' - a' b\\right)$"
      ],
      "text/plain": [
       "x_2**2*x_4*(-d*f' + d'*f) + x_2**2*x_5*(b*d' - b'*d) + x_2*x_4**2*(f*g' - f'*g) + x_2*x_4*x_5*(-b*f' + b*g' + b'*f - b'*g + c*d' - c'*d) + x_2*x_5**2*(a*d' - a'*d) + x_4**2*x_5*(c*g' - c'*g) + x_4*x_5**2*(a*g' - a'*g - b*c' + b'*c) + x_5**3*(a*b' - a'*b)"
      ]
     },
     "execution_count": 10,
     "metadata": {},
     "output_type": "execute_result"
    }
   ],
   "source": [
    "G_11"
   ]
  },
  {
   "cell_type": "code",
   "execution_count": 11,
   "id": "387a0466-c076-49ff-887b-0328fac64a91",
   "metadata": {},
   "outputs": [],
   "source": [
    "F_11 = (b__ * a - b * a__) * x_5**3 + (a * d__ - a__ * d) * x_2 * x_5**2 + (a * g__ - a__ * g + c * b__ - c__ * b) * x_5**2 * x_4 + (b * d__ - b__ * d) * x_2**2 * x_5 + (b * g__ - g * b__ + c * d__ - c__ * d + f * b__ - f__ * b) * x_2 * x_4 * x_5 + (c * g__ - c__ * g) * x_4**2 * x_5 + (f * d__ - f__ * d) * x_2**2 * x_4 + (f * g__ - g * f__) * x_2 * x_4**2"
   ]
  },
  {
   "cell_type": "code",
   "execution_count": 12,
   "id": "17cf625e-62b6-4b4d-8830-47a9ea9d16a5",
   "metadata": {},
   "outputs": [
    {
     "data": {
      "text/latex": [
       "$\\displaystyle x_{2}^{2} x_{4} \\left(- d f'' + d'' f\\right) + x_{2}^{2} x_{5} \\left(b d'' - b'' d\\right) + x_{2} x_{4}^{2} \\left(f g'' - f'' g\\right) + x_{2} x_{4} x_{5} \\left(- b f'' + b g'' + b'' f - b'' g + c d'' - c'' d\\right) + x_{2} x_{5}^{2} \\left(a d'' - a'' d\\right) + x_{4}^{2} x_{5} \\left(c g'' - c'' g\\right) + x_{4} x_{5}^{2} \\left(a g'' - a'' g - b c'' + b'' c\\right) + x_{5}^{3} \\left(a b'' - a'' b\\right)$"
      ],
      "text/plain": [
       "x_2**2*x_4*(-d*f'' + d''*f) + x_2**2*x_5*(b*d'' - b''*d) + x_2*x_4**2*(f*g'' - f''*g) + x_2*x_4*x_5*(-b*f'' + b*g'' + b''*f - b''*g + c*d'' - c''*d) + x_2*x_5**2*(a*d'' - a''*d) + x_4**2*x_5*(c*g'' - c''*g) + x_4*x_5**2*(a*g'' - a''*g - b*c'' + b''*c) + x_5**3*(a*b'' - a''*b)"
      ]
     },
     "execution_count": 12,
     "metadata": {},
     "output_type": "execute_result"
    }
   ],
   "source": [
    "F_11"
   ]
  },
  {
   "cell_type": "code",
   "execution_count": 13,
   "id": "a6a129ed-c21b-47b4-a6e8-b7c585219fde",
   "metadata": {},
   "outputs": [],
   "source": [
    "H_11 = (b__ * a_ - b_ * a__) * x_5**3 + (a_ * d__ - a__ * d_) * x_2 * x_5**2 + (a_ * g__ - a__ * g_ + c_ * b__ - c__ * b_) * x_5**2 * x_4 + (b_ * d__ - b__ * d_) * x_2**2 * x_5 + (b_ * g__ - g_ * b__ + c_ * d__ - c__ * d_ + f_ * b__ - f__ * b_) * x_2 * x_4 * x_5 + (c_*g__ - c__* g_) * x_4**2 * x_5 + (f_ * d__ - f__ * d_) * x_2**2 * x_4 + (f_ * g__ - g_ * f__) * x_2 * x_4**2"
   ]
  },
  {
   "cell_type": "code",
   "execution_count": 14,
   "id": "60017ee5-6bc4-4203-a0b3-6daab4bdac03",
   "metadata": {},
   "outputs": [
    {
     "data": {
      "text/latex": [
       "$\\displaystyle x_{2}^{2} x_{4} \\left(- d' f'' + d'' f'\\right) + x_{2}^{2} x_{5} \\left(b' d'' - b'' d'\\right) + x_{2} x_{4}^{2} \\left(f' g'' - f'' g'\\right) + x_{2} x_{4} x_{5} \\left(- b' f'' + b' g'' + b'' f' - b'' g' + c' d'' - c'' d'\\right) + x_{2} x_{5}^{2} \\left(a' d'' - a'' d'\\right) + x_{4}^{2} x_{5} \\left(c' g'' - c'' g'\\right) + x_{4} x_{5}^{2} \\left(a' g'' - a'' g' - b' c'' + b'' c'\\right) + x_{5}^{3} \\left(a' b'' - a'' b'\\right)$"
      ],
      "text/plain": [
       "x_2**2*x_4*(-d'*f'' + d''*f') + x_2**2*x_5*(b'*d'' - b''*d') + x_2*x_4**2*(f'*g'' - f''*g') + x_2*x_4*x_5*(-b'*f'' + b'*g'' + b''*f' - b''*g' + c'*d'' - c''*d') + x_2*x_5**2*(a'*d'' - a''*d') + x_4**2*x_5*(c'*g'' - c''*g') + x_4*x_5**2*(a'*g'' - a''*g' - b'*c'' + b''*c') + x_5**3*(a'*b'' - a''*b')"
      ]
     },
     "execution_count": 14,
     "metadata": {},
     "output_type": "execute_result"
    }
   ],
   "source": [
    "H_11"
   ]
  },
  {
   "cell_type": "code",
   "execution_count": 15,
   "id": "47d932a5-5f3c-45a6-9f78-8edff0779322",
   "metadata": {},
   "outputs": [],
   "source": [
    "G_12 = (a*f_ - a_*f + c*b_ - c_*b)*x_5**2 + (b*f_ - f*b_ + c*d_ - c_*d + g*b_ - g_*b) * x_2 *x_5 + (c*g_ - c_*g + c*f_ - c_*f + e*b_ - e_*b)*x_4*x_5 + (e*d_ - e_*d) * x_2 *x_4 + (e*g_ - e_*g)*x_4**2 + (g*d_ - g_*d)*x_2**2\n"
   ]
  },
  {
   "cell_type": "code",
   "execution_count": 16,
   "id": "8c595b81-9fd2-46eb-991d-e0e84715ce88",
   "metadata": {},
   "outputs": [
    {
     "data": {
      "text/latex": [
       "$\\displaystyle x_{2}^{2} \\left(- d g' + d' g\\right) + x_{2} x_{4} \\left(- d e' + d' e\\right) + x_{2} x_{5} \\left(b f' - b g' - b' f + b' g + c d' - c' d\\right) + x_{4}^{2} \\left(e g' - e' g\\right) + x_{4} x_{5} \\left(- b e' + b' e + c f' + c g' - c' f - c' g\\right) + x_{5}^{2} \\left(a f' - a' f - b c' + b' c\\right)$"
      ],
      "text/plain": [
       "x_2**2*(-d*g' + d'*g) + x_2*x_4*(-d*e' + d'*e) + x_2*x_5*(b*f' - b*g' - b'*f + b'*g + c*d' - c'*d) + x_4**2*(e*g' - e'*g) + x_4*x_5*(-b*e' + b'*e + c*f' + c*g' - c'*f - c'*g) + x_5**2*(a*f' - a'*f - b*c' + b'*c)"
      ]
     },
     "execution_count": 16,
     "metadata": {},
     "output_type": "execute_result"
    }
   ],
   "source": [
    "G_12"
   ]
  },
  {
   "cell_type": "code",
   "execution_count": 17,
   "id": "fd6babab-529f-4033-8e52-b3cac89affe1",
   "metadata": {},
   "outputs": [],
   "source": [
    "F_12 = (a*f__ - a__*f + c*b__ - c__*b)*x_5**2 + (b*f__ - f*b__ + c*d__ - c__*d + g*b__ - g__*b) * x_2 *x_5 + (c*g__ - c__*g + c*f__ - c__*f + e*b__ - e__*b)*x_4*x_5 + (e*d__ - e__*d) * x_2 *x_4 + (e*g__ - e__*g)*x_4**2 + (g*d__ - g__*d)*x_2**2\n"
   ]
  },
  {
   "cell_type": "code",
   "execution_count": 18,
   "id": "04b1e5b5-cbee-4c5d-a71f-465af53b0205",
   "metadata": {},
   "outputs": [
    {
     "data": {
      "text/latex": [
       "$\\displaystyle x_{2}^{2} \\left(- d g'' + d'' g\\right) + x_{2} x_{4} \\left(- d e'' + d'' e\\right) + x_{2} x_{5} \\left(b f'' - b g'' - b'' f + b'' g + c d'' - c'' d\\right) + x_{4}^{2} \\left(e g'' - e'' g\\right) + x_{4} x_{5} \\left(- b e'' + b'' e + c f'' + c g'' - c'' f - c'' g\\right) + x_{5}^{2} \\left(a f'' - a'' f - b c'' + b'' c\\right)$"
      ],
      "text/plain": [
       "x_2**2*(-d*g'' + d''*g) + x_2*x_4*(-d*e'' + d''*e) + x_2*x_5*(b*f'' - b*g'' - b''*f + b''*g + c*d'' - c''*d) + x_4**2*(e*g'' - e''*g) + x_4*x_5*(-b*e'' + b''*e + c*f'' + c*g'' - c''*f - c''*g) + x_5**2*(a*f'' - a''*f - b*c'' + b''*c)"
      ]
     },
     "execution_count": 18,
     "metadata": {},
     "output_type": "execute_result"
    }
   ],
   "source": [
    "F_12"
   ]
  },
  {
   "cell_type": "code",
   "execution_count": 19,
   "id": "aff1c0f2-b757-48f0-a437-150898e8d1a1",
   "metadata": {},
   "outputs": [],
   "source": [
    "H_12 = (a_*f__ - a__*f_ + c_*b__ - c__*b_)*x_5**2 + (b_*f__ - f_*b__ + c_*d__ - c__*d_ + g_*b__ - g__*b_) * x_2 *x_5 + (c_*g__ - c__*g_ + c_*f__ - c__*f_ + e_*b__ - e__*b_)*x_4*x_5 + (e_*d__ - e__*d_) * x_2 *x_4 + (e_*g__ - e__*g_)*x_4**2 + (g_*d__ - g__*d_)*x_2**2\n"
   ]
  },
  {
   "cell_type": "code",
   "execution_count": 20,
   "id": "525cecf2-3b79-4cca-b19e-1771aa9a8fbf",
   "metadata": {},
   "outputs": [
    {
     "data": {
      "text/latex": [
       "$\\displaystyle x_{2}^{2} \\left(- d' g'' + d'' g'\\right) + x_{2} x_{4} \\left(- d' e'' + d'' e'\\right) + x_{2} x_{5} \\left(b' f'' - b' g'' - b'' f' + b'' g' + c' d'' - c'' d'\\right) + x_{4}^{2} \\left(e' g'' - e'' g'\\right) + x_{4} x_{5} \\left(- b' e'' + b'' e' + c' f'' + c' g'' - c'' f' - c'' g'\\right) + x_{5}^{2} \\left(a' f'' - a'' f' - b' c'' + b'' c'\\right)$"
      ],
      "text/plain": [
       "x_2**2*(-d'*g'' + d''*g') + x_2*x_4*(-d'*e'' + d''*e') + x_2*x_5*(b'*f'' - b'*g'' - b''*f' + b''*g' + c'*d'' - c''*d') + x_4**2*(e'*g'' - e''*g') + x_4*x_5*(-b'*e'' + b''*e' + c'*f'' + c'*g'' - c''*f' - c''*g') + x_5**2*(a'*f'' - a''*f' - b'*c'' + b''*c')"
      ]
     },
     "execution_count": 20,
     "metadata": {},
     "output_type": "execute_result"
    }
   ],
   "source": [
    "H_12"
   ]
  },
  {
   "cell_type": "code",
   "execution_count": 21,
   "id": "f89543e0-6eb8-4121-a3bd-c0cf4efb86bd",
   "metadata": {},
   "outputs": [],
   "source": [
    "G_22 = (c*f_ - c_*f)*x_5 + (e*f_ - e_*f)*x_4 + (g*f_ -g_*f)*x_2"
   ]
  },
  {
   "cell_type": "code",
   "execution_count": 44,
   "id": "b0bdb25d-4e45-4a03-9662-3980e7cc36dc",
   "metadata": {},
   "outputs": [
    {
     "data": {
      "text/latex": [
       "$\\displaystyle x_{2} \\left(- f g' + f' g\\right) + x_{4} \\left(e f' - e' f\\right) + x_{5} \\left(c f' - c' f\\right)$"
      ],
      "text/plain": [
       "x_2*(-f*g' + f'*g) + x_4*(e*f' - e'*f) + x_5*(c*f' - c'*f)"
      ]
     },
     "execution_count": 44,
     "metadata": {},
     "output_type": "execute_result"
    }
   ],
   "source": [
    "G_22"
   ]
  },
  {
   "cell_type": "code",
   "execution_count": 23,
   "id": "4fc6ae8a-3c18-4a9e-a90a-743fb71bf5ae",
   "metadata": {},
   "outputs": [],
   "source": [
    "F_22 = (c*f__ - c__*f)*x_5 + (e*f__ - e__*f)*x_4 + (g*f__ -g__*f)*x_2"
   ]
  },
  {
   "cell_type": "code",
   "execution_count": 24,
   "id": "bd4a67a5-5ce6-4aa0-b102-eb753a0a29ea",
   "metadata": {},
   "outputs": [
    {
     "data": {
      "text/latex": [
       "$\\displaystyle x_{2} \\left(- f g'' + f'' g\\right) + x_{4} \\left(e f'' - e'' f\\right) + x_{5} \\left(c f'' - c'' f\\right)$"
      ],
      "text/plain": [
       "x_2*(-f*g'' + f''*g) + x_4*(e*f'' - e''*f) + x_5*(c*f'' - c''*f)"
      ]
     },
     "execution_count": 24,
     "metadata": {},
     "output_type": "execute_result"
    }
   ],
   "source": [
    "F_22"
   ]
  },
  {
   "cell_type": "code",
   "execution_count": 25,
   "id": "cb84ae79-e485-4657-95ae-4b4c88b29186",
   "metadata": {},
   "outputs": [],
   "source": [
    "H_22 = (c_*f__ - c__*f_)*x_5 + (e_*f__ - e__*f_)*x_4 + (g_*f__ - g__*f_)*x_2"
   ]
  },
  {
   "cell_type": "code",
   "execution_count": 26,
   "id": "93bb85db-2f22-47ae-8f1d-6106d175c12e",
   "metadata": {},
   "outputs": [
    {
     "data": {
      "text/latex": [
       "$\\displaystyle x_{2} \\left(- f' g'' + f'' g'\\right) + x_{4} \\left(e' f'' - e'' f'\\right) + x_{5} \\left(c' f'' - c'' f'\\right)$"
      ],
      "text/plain": [
       "x_2*(-f'*g'' + f''*g') + x_4*(e'*f'' - e''*f') + x_5*(c'*f'' - c''*f')"
      ]
     },
     "execution_count": 26,
     "metadata": {},
     "output_type": "execute_result"
    }
   ],
   "source": [
    "H_22"
   ]
  },
  {
   "cell_type": "code",
   "execution_count": null,
   "id": "2fe00981-662e-4eb6-b907-aac4e8f5b6b5",
   "metadata": {},
   "outputs": [],
   "source": []
  },
  {
   "cell_type": "code",
   "execution_count": 27,
   "id": "f4fd1c83-4a47-4842-9664-4d95b15d8684",
   "metadata": {},
   "outputs": [],
   "source": [
    "eq1 = G_11 + t*G_12 + t**2*G_22 \n",
    "eq2 = F_11 + t*F_12 + t**2*F_22\n",
    "eq3 = H_11 + t*H_12 + t**2*H_22"
   ]
  },
  {
   "cell_type": "code",
   "execution_count": 28,
   "id": "92ecbd4a-2201-4bfa-acb2-acc196cbdb42",
   "metadata": {},
   "outputs": [],
   "source": [
    "# solutions = sp.solve((eq1, eq2, eq3), t)"
   ]
  },
  {
   "cell_type": "code",
   "execution_count": 29,
   "id": "a2686d60-350c-426c-aab1-e88d45b26e23",
   "metadata": {},
   "outputs": [],
   "source": [
    "P = (F_11 * G_22 - G_11 * F_22) * (H_12 * F_22 - F_12 * H_22) - (H_11 * F_22 - F_11 * H_22) * (F_12 * G_22 - G_12 * F_22) "
   ]
  },
  {
   "cell_type": "code",
   "execution_count": 45,
   "id": "4d53f752-8a51-4c86-b749-d2c65c68861d",
   "metadata": {},
   "outputs": [
    {
     "data": {
      "text/latex": [
       "$\\displaystyle - \\left(\\left(x_{2} \\left(- f g' + f' g\\right) + x_{4} \\left(e f' - e' f\\right) + x_{5} \\left(c f' - c' f\\right)\\right) \\left(x_{2}^{2} \\left(- d g'' + d'' g\\right) + x_{2} x_{4} \\left(- d e'' + d'' e\\right) + x_{2} x_{5} \\left(b f'' - b g'' - b'' f + b'' g + c d'' - c'' d\\right) + x_{4}^{2} \\left(e g'' - e'' g\\right) + x_{4} x_{5} \\left(- b e'' + b'' e + c f'' + c g'' - c'' f - c'' g\\right) + x_{5}^{2} \\left(a f'' - a'' f - b c'' + b'' c\\right)\\right) - \\left(x_{2} \\left(- f g'' + f'' g\\right) + x_{4} \\left(e f'' - e'' f\\right) + x_{5} \\left(c f'' - c'' f\\right)\\right) \\left(x_{2}^{2} \\left(- d g' + d' g\\right) + x_{2} x_{4} \\left(- d e' + d' e\\right) + x_{2} x_{5} \\left(b f' - b g' - b' f + b' g + c d' - c' d\\right) + x_{4}^{2} \\left(e g' - e' g\\right) + x_{4} x_{5} \\left(- b e' + b' e + c f' + c g' - c' f - c' g\\right) + x_{5}^{2} \\left(a f' - a' f - b c' + b' c\\right)\\right)\\right) \\left(\\left(x_{2} \\left(- f g'' + f'' g\\right) + x_{4} \\left(e f'' - e'' f\\right) + x_{5} \\left(c f'' - c'' f\\right)\\right) \\left(x_{2}^{2} x_{4} \\left(- d' f'' + d'' f'\\right) + x_{2}^{2} x_{5} \\left(b' d'' - b'' d'\\right) + x_{2} x_{4}^{2} \\left(f' g'' - f'' g'\\right) + x_{2} x_{4} x_{5} \\left(- b' f'' + b' g'' + b'' f' - b'' g' + c' d'' - c'' d'\\right) + x_{2} x_{5}^{2} \\left(a' d'' - a'' d'\\right) + x_{4}^{2} x_{5} \\left(c' g'' - c'' g'\\right) + x_{4} x_{5}^{2} \\left(a' g'' - a'' g' - b' c'' + b'' c'\\right) + x_{5}^{3} \\left(a' b'' - a'' b'\\right)\\right) - \\left(x_{2} \\left(- f' g'' + f'' g'\\right) + x_{4} \\left(e' f'' - e'' f'\\right) + x_{5} \\left(c' f'' - c'' f'\\right)\\right) \\left(x_{2}^{2} x_{4} \\left(- d f'' + d'' f\\right) + x_{2}^{2} x_{5} \\left(b d'' - b'' d\\right) + x_{2} x_{4}^{2} \\left(f g'' - f'' g\\right) + x_{2} x_{4} x_{5} \\left(- b f'' + b g'' + b'' f - b'' g + c d'' - c'' d\\right) + x_{2} x_{5}^{2} \\left(a d'' - a'' d\\right) + x_{4}^{2} x_{5} \\left(c g'' - c'' g\\right) + x_{4} x_{5}^{2} \\left(a g'' - a'' g - b c'' + b'' c\\right) + x_{5}^{3} \\left(a b'' - a'' b\\right)\\right)\\right) + \\left(\\left(x_{2} \\left(- f g' + f' g\\right) + x_{4} \\left(e f' - e' f\\right) + x_{5} \\left(c f' - c' f\\right)\\right) \\left(x_{2}^{2} x_{4} \\left(- d f'' + d'' f\\right) + x_{2}^{2} x_{5} \\left(b d'' - b'' d\\right) + x_{2} x_{4}^{2} \\left(f g'' - f'' g\\right) + x_{2} x_{4} x_{5} \\left(- b f'' + b g'' + b'' f - b'' g + c d'' - c'' d\\right) + x_{2} x_{5}^{2} \\left(a d'' - a'' d\\right) + x_{4}^{2} x_{5} \\left(c g'' - c'' g\\right) + x_{4} x_{5}^{2} \\left(a g'' - a'' g - b c'' + b'' c\\right) + x_{5}^{3} \\left(a b'' - a'' b\\right)\\right) - \\left(x_{2} \\left(- f g'' + f'' g\\right) + x_{4} \\left(e f'' - e'' f\\right) + x_{5} \\left(c f'' - c'' f\\right)\\right) \\left(x_{2}^{2} x_{4} \\left(- d f' + d' f\\right) + x_{2}^{2} x_{5} \\left(b d' - b' d\\right) + x_{2} x_{4}^{2} \\left(f g' - f' g\\right) + x_{2} x_{4} x_{5} \\left(- b f' + b g' + b' f - b' g + c d' - c' d\\right) + x_{2} x_{5}^{2} \\left(a d' - a' d\\right) + x_{4}^{2} x_{5} \\left(c g' - c' g\\right) + x_{4} x_{5}^{2} \\left(a g' - a' g - b c' + b' c\\right) + x_{5}^{3} \\left(a b' - a' b\\right)\\right)\\right) \\left(\\left(x_{2} \\left(- f g'' + f'' g\\right) + x_{4} \\left(e f'' - e'' f\\right) + x_{5} \\left(c f'' - c'' f\\right)\\right) \\left(x_{2}^{2} \\left(- d' g'' + d'' g'\\right) + x_{2} x_{4} \\left(- d' e'' + d'' e'\\right) + x_{2} x_{5} \\left(b' f'' - b' g'' - b'' f' + b'' g' + c' d'' - c'' d'\\right) + x_{4}^{2} \\left(e' g'' - e'' g'\\right) + x_{4} x_{5} \\left(- b' e'' + b'' e' + c' f'' + c' g'' - c'' f' - c'' g'\\right) + x_{5}^{2} \\left(a' f'' - a'' f' - b' c'' + b'' c'\\right)\\right) - \\left(x_{2} \\left(- f' g'' + f'' g'\\right) + x_{4} \\left(e' f'' - e'' f'\\right) + x_{5} \\left(c' f'' - c'' f'\\right)\\right) \\left(x_{2}^{2} \\left(- d g'' + d'' g\\right) + x_{2} x_{4} \\left(- d e'' + d'' e\\right) + x_{2} x_{5} \\left(b f'' - b g'' - b'' f + b'' g + c d'' - c'' d\\right) + x_{4}^{2} \\left(e g'' - e'' g\\right) + x_{4} x_{5} \\left(- b e'' + b'' e + c f'' + c g'' - c'' f - c'' g\\right) + x_{5}^{2} \\left(a f'' - a'' f - b c'' + b'' c\\right)\\right)\\right)$"
      ],
      "text/plain": [
       "-((x_2*(-f*g' + f'*g) + x_4*(e*f' - e'*f) + x_5*(c*f' - c'*f))*(x_2**2*(-d*g'' + d''*g) + x_2*x_4*(-d*e'' + d''*e) + x_2*x_5*(b*f'' - b*g'' - b''*f + b''*g + c*d'' - c''*d) + x_4**2*(e*g'' - e''*g) + x_4*x_5*(-b*e'' + b''*e + c*f'' + c*g'' - c''*f - c''*g) + x_5**2*(a*f'' - a''*f - b*c'' + b''*c)) - (x_2*(-f*g'' + f''*g) + x_4*(e*f'' - e''*f) + x_5*(c*f'' - c''*f))*(x_2**2*(-d*g' + d'*g) + x_2*x_4*(-d*e' + d'*e) + x_2*x_5*(b*f' - b*g' - b'*f + b'*g + c*d' - c'*d) + x_4**2*(e*g' - e'*g) + x_4*x_5*(-b*e' + b'*e + c*f' + c*g' - c'*f - c'*g) + x_5**2*(a*f' - a'*f - b*c' + b'*c)))*((x_2*(-f*g'' + f''*g) + x_4*(e*f'' - e''*f) + x_5*(c*f'' - c''*f))*(x_2**2*x_4*(-d'*f'' + d''*f') + x_2**2*x_5*(b'*d'' - b''*d') + x_2*x_4**2*(f'*g'' - f''*g') + x_2*x_4*x_5*(-b'*f'' + b'*g'' + b''*f' - b''*g' + c'*d'' - c''*d') + x_2*x_5**2*(a'*d'' - a''*d') + x_4**2*x_5*(c'*g'' - c''*g') + x_4*x_5**2*(a'*g'' - a''*g' - b'*c'' + b''*c') + x_5**3*(a'*b'' - a''*b')) - (x_2*(-f'*g'' + f''*g') + x_4*(e'*f'' - e''*f') + x_5*(c'*f'' - c''*f'))*(x_2**2*x_4*(-d*f'' + d''*f) + x_2**2*x_5*(b*d'' - b''*d) + x_2*x_4**2*(f*g'' - f''*g) + x_2*x_4*x_5*(-b*f'' + b*g'' + b''*f - b''*g + c*d'' - c''*d) + x_2*x_5**2*(a*d'' - a''*d) + x_4**2*x_5*(c*g'' - c''*g) + x_4*x_5**2*(a*g'' - a''*g - b*c'' + b''*c) + x_5**3*(a*b'' - a''*b))) + ((x_2*(-f*g' + f'*g) + x_4*(e*f' - e'*f) + x_5*(c*f' - c'*f))*(x_2**2*x_4*(-d*f'' + d''*f) + x_2**2*x_5*(b*d'' - b''*d) + x_2*x_4**2*(f*g'' - f''*g) + x_2*x_4*x_5*(-b*f'' + b*g'' + b''*f - b''*g + c*d'' - c''*d) + x_2*x_5**2*(a*d'' - a''*d) + x_4**2*x_5*(c*g'' - c''*g) + x_4*x_5**2*(a*g'' - a''*g - b*c'' + b''*c) + x_5**3*(a*b'' - a''*b)) - (x_2*(-f*g'' + f''*g) + x_4*(e*f'' - e''*f) + x_5*(c*f'' - c''*f))*(x_2**2*x_4*(-d*f' + d'*f) + x_2**2*x_5*(b*d' - b'*d) + x_2*x_4**2*(f*g' - f'*g) + x_2*x_4*x_5*(-b*f' + b*g' + b'*f - b'*g + c*d' - c'*d) + x_2*x_5**2*(a*d' - a'*d) + x_4**2*x_5*(c*g' - c'*g) + x_4*x_5**2*(a*g' - a'*g - b*c' + b'*c) + x_5**3*(a*b' - a'*b)))*((x_2*(-f*g'' + f''*g) + x_4*(e*f'' - e''*f) + x_5*(c*f'' - c''*f))*(x_2**2*(-d'*g'' + d''*g') + x_2*x_4*(-d'*e'' + d''*e') + x_2*x_5*(b'*f'' - b'*g'' - b''*f' + b''*g' + c'*d'' - c''*d') + x_4**2*(e'*g'' - e''*g') + x_4*x_5*(-b'*e'' + b''*e' + c'*f'' + c'*g'' - c''*f' - c''*g') + x_5**2*(a'*f'' - a''*f' - b'*c'' + b''*c')) - (x_2*(-f'*g'' + f''*g') + x_4*(e'*f'' - e''*f') + x_5*(c'*f'' - c''*f'))*(x_2**2*(-d*g'' + d''*g) + x_2*x_4*(-d*e'' + d''*e) + x_2*x_5*(b*f'' - b*g'' - b''*f + b''*g + c*d'' - c''*d) + x_4**2*(e*g'' - e''*g) + x_4*x_5*(-b*e'' + b''*e + c*f'' + c*g'' - c''*f - c''*g) + x_5**2*(a*f'' - a''*f - b*c'' + b''*c)))"
      ]
     },
     "execution_count": 45,
     "metadata": {},
     "output_type": "execute_result"
    }
   ],
   "source": [
    "P"
   ]
  },
  {
   "cell_type": "code",
   "execution_count": null,
   "id": "f0845e2b-f7e6-4c9c-8f82-44bf89663420",
   "metadata": {},
   "outputs": [],
   "source": [
    "fact_P = factor(P)"
   ]
  },
  {
   "cell_type": "code",
   "execution_count": 31,
   "id": "5eb982a7-f7ab-4985-b87b-f4233243c506",
   "metadata": {},
   "outputs": [],
   "source": [
    "from sympy import simplify, factor, expand"
   ]
  },
  {
   "cell_type": "code",
   "execution_count": 36,
   "id": "aa233e2a-9d3e-46d8-bd38-64a50270c241",
   "metadata": {},
   "outputs": [],
   "source": [
    "fact_H11 = factor(H_11)"
   ]
  },
  {
   "cell_type": "code",
   "execution_count": 37,
   "id": "8ed85707-24cc-4150-bff2-1c29032b96ac",
   "metadata": {},
   "outputs": [
    {
     "data": {
      "text/latex": [
       "$\\displaystyle a' b'' x_{5}^{3} + a' d'' x_{2} x_{5}^{2} + a' g'' x_{4} x_{5}^{2} - a'' b' x_{5}^{3} - a'' d' x_{2} x_{5}^{2} - a'' g' x_{4} x_{5}^{2} - b' c'' x_{4} x_{5}^{2} + b' d'' x_{2}^{2} x_{5} - b' f'' x_{2} x_{4} x_{5} + b' g'' x_{2} x_{4} x_{5} + b'' c' x_{4} x_{5}^{2} - b'' d' x_{2}^{2} x_{5} + b'' f' x_{2} x_{4} x_{5} - b'' g' x_{2} x_{4} x_{5} + c' d'' x_{2} x_{4} x_{5} + c' g'' x_{4}^{2} x_{5} - c'' d' x_{2} x_{4} x_{5} - c'' g' x_{4}^{2} x_{5} - d' f'' x_{2}^{2} x_{4} + d'' f' x_{2}^{2} x_{4} + f' g'' x_{2} x_{4}^{2} - f'' g' x_{2} x_{4}^{2}$"
      ],
      "text/plain": [
       "a'*b''*x_5**3 + a'*d''*x_2*x_5**2 + a'*g''*x_4*x_5**2 - a''*b'*x_5**3 - a''*d'*x_2*x_5**2 - a''*g'*x_4*x_5**2 - b'*c''*x_4*x_5**2 + b'*d''*x_2**2*x_5 - b'*f''*x_2*x_4*x_5 + b'*g''*x_2*x_4*x_5 + b''*c'*x_4*x_5**2 - b''*d'*x_2**2*x_5 + b''*f'*x_2*x_4*x_5 - b''*g'*x_2*x_4*x_5 + c'*d''*x_2*x_4*x_5 + c'*g''*x_4**2*x_5 - c''*d'*x_2*x_4*x_5 - c''*g'*x_4**2*x_5 - d'*f''*x_2**2*x_4 + d''*f'*x_2**2*x_4 + f'*g''*x_2*x_4**2 - f''*g'*x_2*x_4**2"
      ]
     },
     "execution_count": 37,
     "metadata": {},
     "output_type": "execute_result"
    }
   ],
   "source": [
    "fact_H11"
   ]
  },
  {
   "cell_type": "code",
   "execution_count": 42,
   "id": "a1e957b9-1ff6-4b58-be39-ecf82a6fac6f",
   "metadata": {},
   "outputs": [],
   "source": [
    "fact_F_11_G_22 = factor(F_11 * G_22)"
   ]
  },
  {
   "cell_type": "code",
   "execution_count": 43,
   "id": "753ba74a-c4f3-4bbc-807e-d92547afdc4e",
   "metadata": {},
   "outputs": [
    {
     "data": {
      "text/latex": [
       "$\\displaystyle \\left(c f' x_{5} - c' f x_{5} + e f' x_{4} - e' f x_{4} - f g' x_{2} + f' g x_{2}\\right) \\left(a b'' x_{5}^{3} + a d'' x_{2} x_{5}^{2} + a g'' x_{4} x_{5}^{2} - a'' b x_{5}^{3} - a'' d x_{2} x_{5}^{2} - a'' g x_{4} x_{5}^{2} - b c'' x_{4} x_{5}^{2} + b d'' x_{2}^{2} x_{5} - b f'' x_{2} x_{4} x_{5} + b g'' x_{2} x_{4} x_{5} + b'' c x_{4} x_{5}^{2} - b'' d x_{2}^{2} x_{5} + b'' f x_{2} x_{4} x_{5} - b'' g x_{2} x_{4} x_{5} + c d'' x_{2} x_{4} x_{5} + c g'' x_{4}^{2} x_{5} - c'' d x_{2} x_{4} x_{5} - c'' g x_{4}^{2} x_{5} - d f'' x_{2}^{2} x_{4} + d'' f x_{2}^{2} x_{4} + f g'' x_{2} x_{4}^{2} - f'' g x_{2} x_{4}^{2}\\right)$"
      ],
      "text/plain": [
       "(c*f'*x_5 - c'*f*x_5 + e*f'*x_4 - e'*f*x_4 - f*g'*x_2 + f'*g*x_2)*(a*b''*x_5**3 + a*d''*x_2*x_5**2 + a*g''*x_4*x_5**2 - a''*b*x_5**3 - a''*d*x_2*x_5**2 - a''*g*x_4*x_5**2 - b*c''*x_4*x_5**2 + b*d''*x_2**2*x_5 - b*f''*x_2*x_4*x_5 + b*g''*x_2*x_4*x_5 + b''*c*x_4*x_5**2 - b''*d*x_2**2*x_5 + b''*f*x_2*x_4*x_5 - b''*g*x_2*x_4*x_5 + c*d''*x_2*x_4*x_5 + c*g''*x_4**2*x_5 - c''*d*x_2*x_4*x_5 - c''*g*x_4**2*x_5 - d*f''*x_2**2*x_4 + d''*f*x_2**2*x_4 + f*g''*x_2*x_4**2 - f''*g*x_2*x_4**2)"
      ]
     },
     "execution_count": 43,
     "metadata": {},
     "output_type": "execute_result"
    }
   ],
   "source": [
    "fact_F_11_G_22"
   ]
  },
  {
   "cell_type": "code",
   "execution_count": 33,
   "id": "708607de-6053-4d10-bd5c-9295212e2e48",
   "metadata": {},
   "outputs": [
    {
     "name": "stdout",
     "output_type": "stream",
     "text": [
      "Original Polynomial: x**2 - 4\n",
      "Factored Polynomial: (x - 2)*(x + 2)\n"
     ]
    }
   ],
   "source": [
    "# Define the symbolic variable\n",
    "x = sp.symbols('x')\n",
    "\n",
    "# Define the polynomial\n",
    "polynomial = x**2 - 4  # Replace this with your polynomial\n",
    "\n",
    "# Factorize the polynomial\n",
    "factored_polynomial = sp.factor(polynomial)\n",
    "\n",
    "# Print the factored polynomial\n",
    "print(\"Original Polynomial:\", polynomial)\n",
    "print(\"Factored Polynomial:\", factored_polynomial)"
   ]
  },
  {
   "cell_type": "code",
   "execution_count": null,
   "id": "7073f1af-732e-4223-9cf7-fb49b3ae73c5",
   "metadata": {},
   "outputs": [],
   "source": []
  }
 ],
 "metadata": {
  "kernelspec": {
   "display_name": "Python 3 (ipykernel)",
   "language": "python",
   "name": "python3"
  },
  "language_info": {
   "codemirror_mode": {
    "name": "ipython",
    "version": 3
   },
   "file_extension": ".py",
   "mimetype": "text/x-python",
   "name": "python",
   "nbconvert_exporter": "python",
   "pygments_lexer": "ipython3",
   "version": "3.11.5"
  }
 },
 "nbformat": 4,
 "nbformat_minor": 5
}
